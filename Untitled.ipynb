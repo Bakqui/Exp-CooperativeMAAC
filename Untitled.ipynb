{
 "cells": [
  {
   "cell_type": "code",
   "execution_count": 1,
   "id": "tamil-rubber",
   "metadata": {},
   "outputs": [],
   "source": [
    "import torch"
   ]
  },
  {
   "cell_type": "code",
   "execution_count": 2,
   "id": "killing-blake",
   "metadata": {},
   "outputs": [],
   "source": [
    "n_agents = 4\n",
    "dummy1 = [torch.zeros(32, 8) for n in range(n_agents-1)]\n",
    "dummy2 = torch.zeros(32, 8)"
   ]
  },
  {
   "cell_type": "code",
   "execution_count": 5,
   "id": "fifty-assault",
   "metadata": {},
   "outputs": [],
   "source": [
    "selector = dummy2.view(dummy2.shape[0], 1, -1)\n",
    "keys = torch.stack(dummy1).permute(1, 2, 0)\n",
    "attend_logits = torch.matmul(selector,\n",
    "                             torch.stack(dummy1).permute(1, 2, 0))"
   ]
  },
  {
   "cell_type": "code",
   "execution_count": 6,
   "id": "linear-killing",
   "metadata": {},
   "outputs": [
    {
     "name": "stdout",
     "output_type": "stream",
     "text": [
      "torch.Size([32, 1, 8])\n",
      "torch.Size([32, 8, 3])\n",
      "torch.Size([32, 1, 3])\n"
     ]
    }
   ],
   "source": [
    "print(selector.shape)\n",
    "print(keys.shape)\n",
    "print(attend_logits.shape)"
   ]
  },
  {
   "cell_type": "code",
   "execution_count": null,
   "id": "bibliographic-continuity",
   "metadata": {},
   "outputs": [],
   "source": []
  }
 ],
 "metadata": {
  "kernelspec": {
   "display_name": "Python 3",
   "language": "python",
   "name": "python3"
  },
  "language_info": {
   "codemirror_mode": {
    "name": "ipython",
    "version": 3
   },
   "file_extension": ".py",
   "mimetype": "text/x-python",
   "name": "python",
   "nbconvert_exporter": "python",
   "pygments_lexer": "ipython3",
   "version": "3.7.9"
  }
 },
 "nbformat": 4,
 "nbformat_minor": 5
}
